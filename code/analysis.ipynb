# University Rankings Data Analysis Notebook
This Jupyter Notebook contains exploratory data analysis (EDA) on university rankings and their academic performance.
